{
 "cells": [
  {
   "cell_type": "code",
   "execution_count": 1,
   "metadata": {},
   "outputs": [],
   "source": [
    "%load_ext autoreload\n",
    "%autoreload 2"
   ]
  },
  {
   "cell_type": "code",
   "execution_count": null,
   "metadata": {},
   "outputs": [],
   "source": []
  },
  {
   "cell_type": "markdown",
   "metadata": {},
   "source": [
    "## Prerequisties\n",
    "\n",
    "\n",
    "\n",
    "following extensions should be enabled in your postgres database\n",
    "- postgis\n",
    "- postgis_raster\n",
    "\n",
    "\n",
    "enable GDAL by executing these queries in your postgres database\n",
    "```\n",
    "SET postgis.gdal_enabled_drivers = 'ENABLE_ALL';\n",
    "SELECT pg_reload_conf();\n",
    "```\n",
    "\n",
    "\n",
    "Now restart Postgresql"
   ]
  },
  {
   "cell_type": "code",
   "execution_count": null,
   "metadata": {},
   "outputs": [],
   "source": []
  },
  {
   "cell_type": "code",
   "execution_count": 2,
   "metadata": {},
   "outputs": [],
   "source": [
    "from postgis2raster import analysis_circle, analysis_polygon"
   ]
  },
  {
   "cell_type": "code",
   "execution_count": null,
   "metadata": {},
   "outputs": [],
   "source": []
  },
  {
   "cell_type": "code",
   "execution_count": 3,
   "metadata": {},
   "outputs": [],
   "source": [
    "table_name = \"gis_osm_roads_free_1\""
   ]
  },
  {
   "cell_type": "code",
   "execution_count": null,
   "metadata": {},
   "outputs": [],
   "source": []
  },
  {
   "cell_type": "code",
   "execution_count": 16,
   "metadata": {},
   "outputs": [
    {
     "name": "stdout",
     "output_type": "stream",
     "text": [
      "4326\n",
      "0.00023670856264282136\n",
      "        WITH q AS (                        WITH a AS (                SELECT                     ST_SetSRID(ST_Point(16.55268272, 40.8271701), 4326) AS geom            ),            b AS (                SELECT                     ST_Buffer(ST_Transform(a.geom, 3857), 2500.0) AS geom                FROM a            )            SELECT                ST_Transform(geom, 4326) as geom            FROM b         AS geom        ),        features AS (                        SELECT                                 t.wkb_geometry AS geom                        FROM                                 public.gis_osm_roads_free_1 t,                                q                        WHERE                                 ST_Intersects(q.geom, t.wkb_geometry)                                AND                                1=1                ),        q_ras AS (            SELECT                ST_Union(                    ST_AsRaster(                        q.geom,                        (         SELECT ST_SetBandNoDataValue(ST_MakeEmptyRaster(167, 167, 16.530224837897016, 40.84416146763811, 0.00023670856264282136, 0.00023670856264282136, 0, 0, 4326), 254)    ),                        '8BUI'::text,                         0,                         254                    ),                    'Max'                ) AS ras            FROM q        ),        q_poly AS (            SELECT                  (pp).geom AS geom            FROM                 (                    SELECT ST_PixelAsPolygons(                        q_ras.ras,                         1                    ) pp                    FROM q_ras                ) a,                 features f            WHERE                 ST_Intersects(f.geom, (pp).geom)           ),        q_point AS (            SELECT                ST_Collect(ST_Centroid(q_poly.geom)) as geom            FROM                 q_poly        ),        raster_w_values AS (            SELECT                 ST_SetValue(                    q_ras.ras,                    1,                    q_point.geom,                    1                ) AS ras            FROM                q_ras,                q_point        ),        out_raster AS (            SELECT                ST_Transform(                    r.ras,                    4326                ) AS ras            FROM                raster_w_values r        )        SELECT             ST_AsTIFF(                out_raster.ras,                'LZW'            )        FROM out_raster            \n",
      "Wall time: 1.87 s\n"
     ]
    },
    {
     "data": {
      "text/plain": [
       "True"
      ]
     },
     "execution_count": 16,
     "metadata": {},
     "output_type": "execute_result"
    }
   ],
   "source": [
    "%%time\n",
    "analysis_circle(\n",
    "    table=table_name,\n",
    "    output_raster='test_circle.tiff',\n",
    "    query_x=16.55268272,\n",
    "    query_y=40.82717010,\n",
    "    radius=2500,\n",
    "    cell_size=30,\n",
    "    #classes = ['secondary'],\n",
    "    class_column = 'fclass',\n",
    "    geom_column = 'wkb_geometry',\n",
    "    positive=1,\n",
    "    negative=0,\n",
    "    nodata=254\n",
    ")"
   ]
  },
  {
   "cell_type": "code",
   "execution_count": null,
   "metadata": {},
   "outputs": [],
   "source": []
  },
  {
   "cell_type": "code",
   "execution_count": 13,
   "metadata": {},
   "outputs": [
    {
     "name": "stdout",
     "output_type": "stream",
     "text": [
      "4326\n",
      "0.00023670856264282136\n",
      "polygon\n",
      "        WITH q AS (                        SELECT ST_GeomFromText('POLYGON((16.530224837897016 40.810174377629814, 16.530224837897016 40.84416146763811, 16.575140602102994 40.84416146763811, 16.575140602102994 40.810174377629814, 16.530224837897016 40.810174377629814))', 4326)         AS geom        ),        features AS (                        SELECT                                 t.wkb_geometry AS geom                        FROM                                 public.gis_osm_roads_free_1 t,                                q                        WHERE                                 ST_Intersects(q.geom, t.wkb_geometry)                                AND                                1=1                ),        q_ras AS (            SELECT                ST_Union(                    ST_AsRaster(                        q.geom,                        (         SELECT ST_SetBandNoDataValue(ST_MakeEmptyRaster(167, 167, 16.530224837897016, 40.84416146763811, 0.00023670856264282136, 0.00023670856264282136, 0, 0, 4326), 254)    ),                        '8BUI'::text,                         0,                         254                    ),                    'Max'                ) AS ras            FROM q        ),        q_poly AS (            SELECT                  (pp).geom AS geom            FROM                 (                    SELECT ST_PixelAsPolygons(                        q_ras.ras,                         1                    ) pp                    FROM q_ras                ) a,                 features f            WHERE                 ST_Intersects(f.geom, (pp).geom)           ),        q_point AS (            SELECT                ST_Collect(ST_Centroid(q_poly.geom)) as geom            FROM                 q_poly        ),        raster_w_values AS (            SELECT                 ST_SetValue(                    q_ras.ras,                    1,                    q_point.geom,                    1                ) AS ras            FROM                q_ras,                q_point        ),        out_raster AS (            SELECT                ST_Transform(                    r.ras,                    4326                ) AS ras            FROM                raster_w_values r        )        SELECT             ST_AsTIFF(                out_raster.ras,                'LZW'            )        FROM out_raster            \n",
      "Wall time: 2.44 s\n"
     ]
    },
    {
     "data": {
      "text/plain": [
       "True"
      ]
     },
     "execution_count": 13,
     "metadata": {},
     "output_type": "execute_result"
    }
   ],
   "source": [
    "%%time\n",
    "analysis_polygon(\n",
    "    table=table_name,\n",
    "    output_raster='test_rectangle1.tiff',\n",
    "    query_x=16.55268272,\n",
    "    query_y=40.82717010,\n",
    "    height=5000,\n",
    "    width=5000,\n",
    "    cell_size=30,\n",
    "    #classes = ['secondary'],\n",
    "    class_column = 'fclass',\n",
    "    geom_column = 'wkb_geometry',\n",
    "    positive=1,\n",
    "    negative=0\n",
    ")"
   ]
  },
  {
   "cell_type": "code",
   "execution_count": null,
   "metadata": {},
   "outputs": [],
   "source": []
  },
  {
   "cell_type": "code",
   "execution_count": null,
   "metadata": {},
   "outputs": [],
   "source": []
  },
  {
   "cell_type": "code",
   "execution_count": null,
   "metadata": {},
   "outputs": [],
   "source": []
  },
  {
   "cell_type": "code",
   "execution_count": null,
   "metadata": {},
   "outputs": [],
   "source": []
  }
 ],
 "metadata": {
  "kernelspec": {
   "display_name": "Python 3",
   "language": "python",
   "name": "python3"
  },
  "language_info": {
   "codemirror_mode": {
    "name": "ipython",
    "version": 3
   },
   "file_extension": ".py",
   "mimetype": "text/x-python",
   "name": "python",
   "nbconvert_exporter": "python",
   "pygments_lexer": "ipython3",
   "version": "3.7.4"
  }
 },
 "nbformat": 4,
 "nbformat_minor": 2
}
